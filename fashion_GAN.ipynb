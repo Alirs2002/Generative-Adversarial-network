{
  "nbformat": 4,
  "nbformat_minor": 0,
  "metadata": {
    "colab": {
      "provenance": [],
      "authorship_tag": "ABX9TyMYWMW9QaaaSxp35Cozkcbq",
      "include_colab_link": true
    },
    "kernelspec": {
      "name": "python3",
      "display_name": "Python 3"
    },
    "language_info": {
      "name": "python"
    }
  },
  "cells": [
    {
      "cell_type": "markdown",
      "metadata": {
        "id": "view-in-github",
        "colab_type": "text"
      },
      "source": [
        "<a href=\"https://colab.research.google.com/github/Alirs2002/fashion_GAN/blob/main/fashion_GAN.ipynb\" target=\"_parent\"><img src=\"https://colab.research.google.com/assets/colab-badge.svg\" alt=\"Open In Colab\"/></a>"
      ]
    },
    {
      "cell_type": "code",
      "execution_count": 44,
      "metadata": {
        "id": "6Qd64ZnswCRk"
      },
      "outputs": [],
      "source": [
        "import tensorflow as tf\n",
        "import numpy as np\n",
        "import pandas as pd\n",
        "import matplotlib.pyplot as plt"
      ]
    },
    {
      "cell_type": "code",
      "source": [
        "import tensorflow_datasets as tfds"
      ],
      "metadata": {
        "id": "3qxO1Hk2waHN"
      },
      "execution_count": 45,
      "outputs": []
    },
    {
      "cell_type": "code",
      "source": [
        "data_set = tfds.load(\"fashion_mnist\",split= \"train\")"
      ],
      "metadata": {
        "id": "14eQPhWfyCO7"
      },
      "execution_count": 46,
      "outputs": []
    },
    {
      "cell_type": "code",
      "source": [
        "def scale_images(data):\n",
        "  img = data[\"image\"]\n",
        "  img = img/255\n",
        "  return img"
      ],
      "metadata": {
        "id": "ZRp0wC7z9b-z"
      },
      "execution_count": 47,
      "outputs": []
    },
    {
      "cell_type": "code",
      "source": [
        "#data_set = data_set.as_numpy_iterator()\n",
        "\n",
        "data_set= data_set.map(scale_images)\n",
        "data_set = data_set.cache()\n",
        "data_set = data_set.shuffle(60000)\n",
        "data_set = data_set.batch(128)\n",
        "data_set = data_set.prefetch(64)"
      ],
      "metadata": {
        "id": "-zp0RZZD9zWU"
      },
      "execution_count": 48,
      "outputs": []
    },
    {
      "cell_type": "code",
      "source": [
        "data_set.as_numpy_iterator().next().shape"
      ],
      "metadata": {
        "colab": {
          "base_uri": "https://localhost:8080/"
        },
        "id": "ch07kCVu-d9g",
        "outputId": "cdba96bc-63f6-489a-a3e7-b417c4db22e3"
      },
      "execution_count": 49,
      "outputs": [
        {
          "output_type": "execute_result",
          "data": {
            "text/plain": [
              "(128, 28, 28, 1)"
            ]
          },
          "metadata": {},
          "execution_count": 49
        }
      ]
    },
    {
      "cell_type": "markdown",
      "source": [
        "now lets create our generator and the discriminator models"
      ],
      "metadata": {
        "id": "xKa4kKiP_G5w"
      }
    },
    {
      "cell_type": "code",
      "source": [
        "from tensorflow.keras import Sequential,Model"
      ],
      "metadata": {
        "id": "mTSaICy7-_cv"
      },
      "execution_count": 50,
      "outputs": []
    },
    {
      "cell_type": "code",
      "source": [
        "def create_generator():\n",
        "  model = Sequential()\n",
        "\n",
        "  model.add(tf.keras.layers.Dense(7*7*128,input_dim = 128))\n",
        "  model.add(tf.keras.layers.LeakyReLU(0.2))\n",
        "  model.add(tf.keras.layers.Reshape((7,7,128)))\n",
        "\n",
        "  model.add(tf.keras.layers.UpSampling2D())\n",
        "  model.add(tf.keras.layers.Conv2D(128,5,padding=\"same\"))\n",
        "  model.add(tf.keras.layers.LeakyReLU(0.2))\n",
        "\n",
        "  model.add(tf.keras.layers.UpSampling2D())\n",
        "  model.add(tf.keras.layers.Conv2D(128,5,padding=\"same\"))\n",
        "  model.add(tf.keras.layers.LeakyReLU(0.2))\n",
        "\n",
        "  model.add(tf.keras.layers.Conv2D(128,4,padding=\"same\"))\n",
        "  model.add(tf.keras.layers.LeakyReLU(0.2))\n",
        "\n",
        "  model.add(tf.keras.layers.Conv2D(128,4,padding=\"same\"))\n",
        "  model.add(tf.keras.layers.LeakyReLU(0.2))\n",
        "\n",
        "  model.add(tf.keras.layers.Conv2D(1,4,padding=\"same\",activation=\"sigmoid\"))\n",
        "\n",
        "  return model\n",
        "\n"
      ],
      "metadata": {
        "id": "EIVjatKp_X3_"
      },
      "execution_count": 51,
      "outputs": []
    },
    {
      "cell_type": "markdown",
      "source": [
        "bellow is a function for creating discriminator"
      ],
      "metadata": {
        "id": "pUBaaoubCq02"
      }
    },
    {
      "cell_type": "code",
      "source": [
        "def create_discriminator():\n",
        "\n",
        "  model = Sequential()\n",
        "\n",
        "  model.add(tf.keras.layers.Input(shape=(28,28,1)))\n",
        "  model.add(tf.keras.layers.Conv2D(32,5,padding=\"same\"))\n",
        "  model.add(tf.keras.layers.LeakyReLU(0.2))\n",
        "  model.add(tf.keras.layers.Dropout(0.4))\n",
        "\n",
        "  model.add(tf.keras.layers.Conv2D(64,5,padding=\"same\"))\n",
        "  model.add(tf.keras.layers.LeakyReLU(0.2))\n",
        "  model.add(tf.keras.layers.Dropout(0.4))\n",
        "\n",
        "  model.add(tf.keras.layers.Conv2D(128,5,padding=\"same\"))\n",
        "  model.add(tf.keras.layers.LeakyReLU(0.2))\n",
        "  model.add(tf.keras.layers.Dropout(0.4))\n",
        "\n",
        "  model.add(tf.keras.layers.Conv2D(256,5,padding=\"same\"))\n",
        "  model.add(tf.keras.layers.LeakyReLU(0.2))\n",
        "  model.add(tf.keras.layers.Dropout(0.4))\n",
        "\n",
        "  model.add(tf.keras.layers.Flatten())\n",
        "  model.add(tf.keras.layers.Dropout(0.4))\n",
        "  model.add(tf.keras.layers.Dense(1,activation=\"sigmoid\"))\n",
        "\n",
        "  return model"
      ],
      "metadata": {
        "id": "uAuxLtowCnpM"
      },
      "execution_count": 52,
      "outputs": []
    },
    {
      "cell_type": "code",
      "source": [
        "generator = create_generator()\n",
        "discriminator = create_discriminator()"
      ],
      "metadata": {
        "id": "e92jzW6TJbzw"
      },
      "execution_count": 53,
      "outputs": []
    },
    {
      "cell_type": "markdown",
      "source": [
        "now lets see a summary of the two parts of out GAN networks"
      ],
      "metadata": {
        "id": "NNslEJY6JqNw"
      }
    },
    {
      "cell_type": "code",
      "source": [
        "generator.summary()"
      ],
      "metadata": {
        "colab": {
          "base_uri": "https://localhost:8080/"
        },
        "id": "OD-gOaNVJnqG",
        "outputId": "7fb3ee99-91f3-4d7b-9ee5-9660c1c4f3d4"
      },
      "execution_count": 54,
      "outputs": [
        {
          "output_type": "stream",
          "name": "stdout",
          "text": [
            "Model: \"sequential_6\"\n",
            "_________________________________________________________________\n",
            " Layer (type)                Output Shape              Param #   \n",
            "=================================================================\n",
            " dense_6 (Dense)             (None, 6272)              809088    \n",
            "                                                                 \n",
            " leaky_re_lu_27 (LeakyReLU)  (None, 6272)              0         \n",
            "                                                                 \n",
            " reshape_3 (Reshape)         (None, 7, 7, 128)         0         \n",
            "                                                                 \n",
            " up_sampling2d_6 (UpSamplin  (None, 14, 14, 128)       0         \n",
            " g2D)                                                            \n",
            "                                                                 \n",
            " conv2d_27 (Conv2D)          (None, 14, 14, 128)       409728    \n",
            "                                                                 \n",
            " leaky_re_lu_28 (LeakyReLU)  (None, 14, 14, 128)       0         \n",
            "                                                                 \n",
            " up_sampling2d_7 (UpSamplin  (None, 28, 28, 128)       0         \n",
            " g2D)                                                            \n",
            "                                                                 \n",
            " conv2d_28 (Conv2D)          (None, 28, 28, 128)       409728    \n",
            "                                                                 \n",
            " leaky_re_lu_29 (LeakyReLU)  (None, 28, 28, 128)       0         \n",
            "                                                                 \n",
            " conv2d_29 (Conv2D)          (None, 28, 28, 128)       262272    \n",
            "                                                                 \n",
            " leaky_re_lu_30 (LeakyReLU)  (None, 28, 28, 128)       0         \n",
            "                                                                 \n",
            " conv2d_30 (Conv2D)          (None, 28, 28, 128)       262272    \n",
            "                                                                 \n",
            " leaky_re_lu_31 (LeakyReLU)  (None, 28, 28, 128)       0         \n",
            "                                                                 \n",
            " conv2d_31 (Conv2D)          (None, 28, 28, 1)         2049      \n",
            "                                                                 \n",
            "=================================================================\n",
            "Total params: 2155137 (8.22 MB)\n",
            "Trainable params: 2155137 (8.22 MB)\n",
            "Non-trainable params: 0 (0.00 Byte)\n",
            "_________________________________________________________________\n"
          ]
        }
      ]
    },
    {
      "cell_type": "code",
      "source": [
        "discriminator.summary()"
      ],
      "metadata": {
        "colab": {
          "base_uri": "https://localhost:8080/"
        },
        "id": "lbe5TG-lJveg",
        "outputId": "987e4660-af43-48bd-8055-152e2e7011db"
      },
      "execution_count": 55,
      "outputs": [
        {
          "output_type": "stream",
          "name": "stdout",
          "text": [
            "Model: \"sequential_7\"\n",
            "_________________________________________________________________\n",
            " Layer (type)                Output Shape              Param #   \n",
            "=================================================================\n",
            " conv2d_32 (Conv2D)          (None, 28, 28, 32)        832       \n",
            "                                                                 \n",
            " leaky_re_lu_32 (LeakyReLU)  (None, 28, 28, 32)        0         \n",
            "                                                                 \n",
            " dropout_15 (Dropout)        (None, 28, 28, 32)        0         \n",
            "                                                                 \n",
            " conv2d_33 (Conv2D)          (None, 28, 28, 64)        51264     \n",
            "                                                                 \n",
            " leaky_re_lu_33 (LeakyReLU)  (None, 28, 28, 64)        0         \n",
            "                                                                 \n",
            " dropout_16 (Dropout)        (None, 28, 28, 64)        0         \n",
            "                                                                 \n",
            " conv2d_34 (Conv2D)          (None, 28, 28, 128)       204928    \n",
            "                                                                 \n",
            " leaky_re_lu_34 (LeakyReLU)  (None, 28, 28, 128)       0         \n",
            "                                                                 \n",
            " dropout_17 (Dropout)        (None, 28, 28, 128)       0         \n",
            "                                                                 \n",
            " conv2d_35 (Conv2D)          (None, 28, 28, 256)       819456    \n",
            "                                                                 \n",
            " leaky_re_lu_35 (LeakyReLU)  (None, 28, 28, 256)       0         \n",
            "                                                                 \n",
            " dropout_18 (Dropout)        (None, 28, 28, 256)       0         \n",
            "                                                                 \n",
            " flatten_3 (Flatten)         (None, 200704)            0         \n",
            "                                                                 \n",
            " dropout_19 (Dropout)        (None, 200704)            0         \n",
            "                                                                 \n",
            " dense_7 (Dense)             (None, 1)                 200705    \n",
            "                                                                 \n",
            "=================================================================\n",
            "Total params: 1277185 (4.87 MB)\n",
            "Trainable params: 1277185 (4.87 MB)\n",
            "Non-trainable params: 0 (0.00 Byte)\n",
            "_________________________________________________________________\n"
          ]
        }
      ]
    },
    {
      "cell_type": "markdown",
      "source": [
        "### now its time to create out training loop"
      ],
      "metadata": {
        "id": "2-IN4TJoLZPy"
      }
    },
    {
      "cell_type": "code",
      "source": [
        "g_opt = tf.keras.optimizers.Adam(learning_rate=0.0001)\n",
        "d_opt = tf.keras.optimizers.Adam(learning_rate=0.00001)\n",
        "\n",
        "g_loss = tf.keras.losses.BinaryCrossentropy()\n",
        "d_loss = tf.keras.losses.BinaryCrossentropy()"
      ],
      "metadata": {
        "id": "1STtOaYuJ1zt"
      },
      "execution_count": 56,
      "outputs": []
    },
    {
      "cell_type": "code",
      "source": [
        "class GAN_network(Model):\n",
        "  def __init__(self,generator,discriminator,*args,**kwargs):\n",
        "    super().__init__(*args,**kwargs)\n",
        "\n",
        "    self.generator = generator\n",
        "    self.discriminator = discriminator\n",
        "\n",
        "  def compile(self,g_opt,d_opt,g_loss,d_loss):\n",
        "    super.compile(*args,**kwargs)\n",
        "\n",
        "    self.g_opt = g_opt\n",
        "    self.d_opt = d_opt\n",
        "    self.g_loss = g_loss\n",
        "    self.d_loss = d_loss\n",
        "\n",
        "  def train_step(self,batch):\n",
        "\n",
        "    real_images = batch\n",
        "    fake_images = self.generator(tf.random.normal((128,128,1)),training=False)\n",
        "\n",
        "    with tf.GradientTape as tape:\n",
        "      yhat_real = self.discriminator(real_images,training=True)\n",
        "      yhat_fake = self.discriminator(fake_images,training=True)\n",
        "      yhat_realfake = tf.concat([yhat_real,yhat_fake],axis = 0)\n",
        "\n",
        "      y_real_fake = tf.concat([tf.zeros_like(yhat_real),tf.ones_like(yhat_fake)],axis = 0)\n",
        "\n",
        "      noise_real = 0.15*tf.random.uniform(tf.shape(yhat_real))\n",
        "      noise_fake = -0.15*tf.random.uniform(tf.shape(yhat_fake))\n",
        "      y_realfake += tf.concat([noise_real,noise_fake],axis=0)\n",
        "\n",
        "      total_d_loss = self.d_loss(y_realfake,yhat_realfake)\n",
        "\n",
        "    d_gradient = tape.gradient(total_d_loss,self.discriminator.trainable_variables)\n",
        "    self.d_opt.apply_gradients(zip(d_gradient,self.discriminator.trainable_variables))\n",
        "\n",
        "\n",
        "    with tf.GradientTape as g_tape:\n",
        "\n",
        "      generated_images = self.generator(tf.random.normal(128,128,1),training=True)\n",
        "      predicted_labels = self.discriminator(generated_images,training=False)\n",
        "\n",
        "      total_g_loss = self.g_loss(tf.zeros_like(predicted_labels),predicted_labels)\n",
        "\n",
        "    g_gradient = g_tape(total_g_loss,self.generator.trainable_variables)\n",
        "    self.g_opt.apply_gradients(zip(g_gradient,self.generator.trainable_variables))\n",
        "\n",
        "\n",
        "\n",
        "\n",
        "\n",
        "\n",
        "\n",
        "\n",
        ""
      ],
      "metadata": {
        "id": "ThH752-QL4Pq"
      },
      "execution_count": 57,
      "outputs": []
    }
  ]
}