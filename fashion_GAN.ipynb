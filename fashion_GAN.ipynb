{
  "nbformat": 4,
  "nbformat_minor": 0,
  "metadata": {
    "colab": {
      "provenance": [],
      "authorship_tag": "ABX9TyPawDtcENowAzds6w5vS5Te",
      "include_colab_link": true
    },
    "kernelspec": {
      "name": "python3",
      "display_name": "Python 3"
    },
    "language_info": {
      "name": "python"
    }
  },
  "cells": [
    {
      "cell_type": "markdown",
      "metadata": {
        "id": "view-in-github",
        "colab_type": "text"
      },
      "source": [
        "<a href=\"https://colab.research.google.com/github/Alirs2002/fashion_GAN/blob/main/fashion_GAN.ipynb\" target=\"_parent\"><img src=\"https://colab.research.google.com/assets/colab-badge.svg\" alt=\"Open In Colab\"/></a>"
      ]
    },
    {
      "cell_type": "code",
      "execution_count": 1,
      "metadata": {
        "id": "6Qd64ZnswCRk"
      },
      "outputs": [],
      "source": [
        "import tensorflow as tf\n",
        "import numpy as np\n",
        "import pandas as pd\n",
        "import matplotlib.pyplot as plt"
      ]
    },
    {
      "cell_type": "code",
      "source": [
        "import tensorflow_datasets as tfds"
      ],
      "metadata": {
        "id": "3qxO1Hk2waHN"
      },
      "execution_count": 5,
      "outputs": []
    },
    {
      "cell_type": "code",
      "source": [
        "data_set = tfds.load(\"fashion_mnist\",split= \"train\")"
      ],
      "metadata": {
        "id": "14eQPhWfyCO7"
      },
      "execution_count": 12,
      "outputs": []
    },
    {
      "cell_type": "code",
      "source": [
        "def scale_images(data):\n",
        "  img = data[\"image\"]\n",
        "  img = img/255\n",
        "  return img"
      ],
      "metadata": {
        "id": "ZRp0wC7z9b-z"
      },
      "execution_count": 15,
      "outputs": []
    },
    {
      "cell_type": "code",
      "source": [
        "#data_set = data_set.as_numpy_iterator()\n",
        "\n",
        "data_set= data_set.map(scale_images)\n",
        "data_set = data_set.cache()\n",
        "data_set = data_set.shuffle(60000)\n",
        "data_set = data_set.batch(128)\n",
        "data_set = data_set.prefetch(64)"
      ],
      "metadata": {
        "id": "-zp0RZZD9zWU"
      },
      "execution_count": 16,
      "outputs": []
    },
    {
      "cell_type": "code",
      "source": [
        "data_set.as_numpy_iterator().next().shape"
      ],
      "metadata": {
        "colab": {
          "base_uri": "https://localhost:8080/"
        },
        "id": "ch07kCVu-d9g",
        "outputId": "a2ec42c5-7a22-49e4-ee3b-ae25d29a13ab"
      },
      "execution_count": 18,
      "outputs": [
        {
          "output_type": "execute_result",
          "data": {
            "text/plain": [
              "(128, 28, 28, 1)"
            ]
          },
          "metadata": {},
          "execution_count": 18
        }
      ]
    },
    {
      "cell_type": "markdown",
      "source": [
        "now lets create our generator and the discriminator models"
      ],
      "metadata": {
        "id": "xKa4kKiP_G5w"
      }
    },
    {
      "cell_type": "code",
      "source": [
        "from tensorflow.keras import Sequential,Model"
      ],
      "metadata": {
        "id": "mTSaICy7-_cv"
      },
      "execution_count": 22,
      "outputs": []
    },
    {
      "cell_type": "code",
      "source": [
        "def create_generator():\n",
        "  model = Sequential()\n",
        "\n",
        "  model.add(tf.keras.layers.Dense(7*7*128,input_dim = 128))\n",
        "  model.add(tf.keras.layers.LeakyReLU(0.2))\n",
        "  model.add(tf.keras.layers.Reshape((7,7,128)))\n",
        "\n",
        "  model.add(tf.keras.layers.UpSampling2D())\n",
        "  model.add(tf.keras.layers.Conv2D(128,5,padding=\"same\"))\n",
        "  model.add(tf.keras.layers.LeakyReLU(0.2))\n",
        "\n",
        "  model.add(tf.keras.layers.UpSampling2D())\n",
        "  model.add(tf.keras.layers.Conv2D(128,5,padding=\"same\"))\n",
        "  model.add(tf.keras.layers.LeakyReLU(0.2))\n",
        "\n",
        "  model.add(tf.keras.layers.Conv2D(128,4,padding=\"same\"))\n",
        "  model.add(tf.keras.layers.LeakyReLU(0.2))\n",
        "\n",
        "  model.add(tf.keras.layers.Conv2D(128,4,padding=\"same\"))\n",
        "  model.add(tf.keras.layers.LeakyReLU(0.2))\n",
        "\n",
        "  model.add(tf.keras.layers.Conv2D(1,4,padding=\"same\",activation=\"sigmoid\"))\n",
        "\n",
        "  return model\n",
        "\n"
      ],
      "metadata": {
        "id": "EIVjatKp_X3_"
      },
      "execution_count": 23,
      "outputs": []
    },
    {
      "cell_type": "markdown",
      "source": [
        "bellow is a function for creating discriminator"
      ],
      "metadata": {
        "id": "pUBaaoubCq02"
      }
    },
    {
      "cell_type": "code",
      "source": [
        "def create_discriminator():\n",
        "\n",
        "  model = Sequential()\n",
        "\n",
        "  model.add(tf.keras.layers.Input(shape=(28,28,1)))\n",
        "  model.add(tf.keras.layers.Conv2D(32,5,padding=\"same\"))\n",
        "  model.add(tf.keras.layers.LeakyReLU(0.2))\n",
        "  model.add(tf.keras.layers.Dropout(0.4))\n",
        "\n",
        "  model.add(tf.keras.layers.Conv2D(64,5,padding=\"same\"))\n",
        "  model.add(tf.keras.layers.LeakyReLU(0.2))\n",
        "  model.add(tf.keras.layers.Dropout(0.4))\n",
        "\n",
        "  model.add(tf.keras.layers.Conv2D(128,5,padding=\"same\"))\n",
        "  model.add(tf.keras.layers.LeakyReLU(0.2))\n",
        "  model.add(tf.keras.layers.Dropout(0.4))\n",
        "\n",
        "  model.add(tf.keras.layers.Conv2D(256,5,padding=\"same\"))\n",
        "  model.add(tf.keras.layers.LeakyReLU(0.2))\n",
        "  model.add(tf.keras.layers.Dropout(0.4))\n",
        "\n",
        "  model.add(tf.keras.layers.Flatten())\n",
        "  model.add(tf.keras.layers.Dropout(0.4))\n",
        "  model.add(tf.keras.layers.Dense(1,activation=\"sigmoid\"))\n",
        "\n",
        "  return model"
      ],
      "metadata": {
        "id": "uAuxLtowCnpM"
      },
      "execution_count": 38,
      "outputs": []
    },
    {
      "cell_type": "code",
      "source": [
        "generator = create_generator()\n",
        "discriminator = create_discriminator()"
      ],
      "metadata": {
        "id": "e92jzW6TJbzw"
      },
      "execution_count": 39,
      "outputs": []
    },
    {
      "cell_type": "markdown",
      "source": [
        "now lets see a summary of the two parts of out GAN networks"
      ],
      "metadata": {
        "id": "NNslEJY6JqNw"
      }
    },
    {
      "cell_type": "code",
      "source": [
        "generator.summary()"
      ],
      "metadata": {
        "colab": {
          "base_uri": "https://localhost:8080/"
        },
        "id": "OD-gOaNVJnqG",
        "outputId": "9b6c0deb-1542-4b07-d303-25ac49e9333e"
      },
      "execution_count": 40,
      "outputs": [
        {
          "output_type": "stream",
          "name": "stdout",
          "text": [
            "Model: \"sequential_4\"\n",
            "_________________________________________________________________\n",
            " Layer (type)                Output Shape              Param #   \n",
            "=================================================================\n",
            " dense_4 (Dense)             (None, 6272)              809088    \n",
            "                                                                 \n",
            " leaky_re_lu_18 (LeakyReLU)  (None, 6272)              0         \n",
            "                                                                 \n",
            " reshape_2 (Reshape)         (None, 7, 7, 128)         0         \n",
            "                                                                 \n",
            " up_sampling2d_4 (UpSamplin  (None, 14, 14, 128)       0         \n",
            " g2D)                                                            \n",
            "                                                                 \n",
            " conv2d_18 (Conv2D)          (None, 14, 14, 128)       409728    \n",
            "                                                                 \n",
            " leaky_re_lu_19 (LeakyReLU)  (None, 14, 14, 128)       0         \n",
            "                                                                 \n",
            " up_sampling2d_5 (UpSamplin  (None, 28, 28, 128)       0         \n",
            " g2D)                                                            \n",
            "                                                                 \n",
            " conv2d_19 (Conv2D)          (None, 28, 28, 128)       409728    \n",
            "                                                                 \n",
            " leaky_re_lu_20 (LeakyReLU)  (None, 28, 28, 128)       0         \n",
            "                                                                 \n",
            " conv2d_20 (Conv2D)          (None, 28, 28, 128)       262272    \n",
            "                                                                 \n",
            " leaky_re_lu_21 (LeakyReLU)  (None, 28, 28, 128)       0         \n",
            "                                                                 \n",
            " conv2d_21 (Conv2D)          (None, 28, 28, 128)       262272    \n",
            "                                                                 \n",
            " leaky_re_lu_22 (LeakyReLU)  (None, 28, 28, 128)       0         \n",
            "                                                                 \n",
            " conv2d_22 (Conv2D)          (None, 28, 28, 1)         2049      \n",
            "                                                                 \n",
            "=================================================================\n",
            "Total params: 2155137 (8.22 MB)\n",
            "Trainable params: 2155137 (8.22 MB)\n",
            "Non-trainable params: 0 (0.00 Byte)\n",
            "_________________________________________________________________\n"
          ]
        }
      ]
    },
    {
      "cell_type": "code",
      "source": [
        "discriminator.summary()"
      ],
      "metadata": {
        "colab": {
          "base_uri": "https://localhost:8080/"
        },
        "id": "lbe5TG-lJveg",
        "outputId": "df58bc42-ecc3-4aef-c08a-1360b8cf293d"
      },
      "execution_count": 41,
      "outputs": [
        {
          "output_type": "stream",
          "name": "stdout",
          "text": [
            "Model: \"sequential_5\"\n",
            "_________________________________________________________________\n",
            " Layer (type)                Output Shape              Param #   \n",
            "=================================================================\n",
            " conv2d_23 (Conv2D)          (None, 28, 28, 32)        832       \n",
            "                                                                 \n",
            " leaky_re_lu_23 (LeakyReLU)  (None, 28, 28, 32)        0         \n",
            "                                                                 \n",
            " dropout_10 (Dropout)        (None, 28, 28, 32)        0         \n",
            "                                                                 \n",
            " conv2d_24 (Conv2D)          (None, 28, 28, 64)        51264     \n",
            "                                                                 \n",
            " leaky_re_lu_24 (LeakyReLU)  (None, 28, 28, 64)        0         \n",
            "                                                                 \n",
            " dropout_11 (Dropout)        (None, 28, 28, 64)        0         \n",
            "                                                                 \n",
            " conv2d_25 (Conv2D)          (None, 28, 28, 128)       204928    \n",
            "                                                                 \n",
            " leaky_re_lu_25 (LeakyReLU)  (None, 28, 28, 128)       0         \n",
            "                                                                 \n",
            " dropout_12 (Dropout)        (None, 28, 28, 128)       0         \n",
            "                                                                 \n",
            " conv2d_26 (Conv2D)          (None, 28, 28, 256)       819456    \n",
            "                                                                 \n",
            " leaky_re_lu_26 (LeakyReLU)  (None, 28, 28, 256)       0         \n",
            "                                                                 \n",
            " dropout_13 (Dropout)        (None, 28, 28, 256)       0         \n",
            "                                                                 \n",
            " flatten_2 (Flatten)         (None, 200704)            0         \n",
            "                                                                 \n",
            " dropout_14 (Dropout)        (None, 200704)            0         \n",
            "                                                                 \n",
            " dense_5 (Dense)             (None, 1)                 200705    \n",
            "                                                                 \n",
            "=================================================================\n",
            "Total params: 1277185 (4.87 MB)\n",
            "Trainable params: 1277185 (4.87 MB)\n",
            "Non-trainable params: 0 (0.00 Byte)\n",
            "_________________________________________________________________\n"
          ]
        }
      ]
    },
    {
      "cell_type": "code",
      "source": [],
      "metadata": {
        "id": "1STtOaYuJ1zt"
      },
      "execution_count": null,
      "outputs": []
    }
  ]
}