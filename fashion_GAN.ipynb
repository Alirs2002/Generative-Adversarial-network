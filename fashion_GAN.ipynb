{
  "nbformat": 4,
  "nbformat_minor": 0,
  "metadata": {
    "colab": {
      "provenance": [],
      "authorship_tag": "ABX9TyM7JvMZn4B89ecvu5qknNj5",
      "include_colab_link": true
    },
    "kernelspec": {
      "name": "python3",
      "display_name": "Python 3"
    },
    "language_info": {
      "name": "python"
    }
  },
  "cells": [
    {
      "cell_type": "markdown",
      "metadata": {
        "id": "view-in-github",
        "colab_type": "text"
      },
      "source": [
        "<a href=\"https://colab.research.google.com/github/Alirs2002/fashion_GAN/blob/main/fashion_GAN.ipynb\" target=\"_parent\"><img src=\"https://colab.research.google.com/assets/colab-badge.svg\" alt=\"Open In Colab\"/></a>"
      ]
    },
    {
      "cell_type": "code",
      "execution_count": 1,
      "metadata": {
        "id": "6Qd64ZnswCRk"
      },
      "outputs": [],
      "source": [
        "import tensorflow as tf\n",
        "import numpy as np\n",
        "import pandas as pd\n",
        "import matplotlib.pyplot as plt"
      ]
    },
    {
      "cell_type": "code",
      "source": [
        "import tensorflow_datasets as tfds"
      ],
      "metadata": {
        "id": "3qxO1Hk2waHN"
      },
      "execution_count": 5,
      "outputs": []
    },
    {
      "cell_type": "code",
      "source": [
        "data_set = tfds.load(\"fashion_mnist\",split= \"train\")"
      ],
      "metadata": {
        "id": "14eQPhWfyCO7"
      },
      "execution_count": 12,
      "outputs": []
    },
    {
      "cell_type": "code",
      "source": [
        "def scale_images(data):\n",
        "  img = data[\"image\"]\n",
        "  img = img/255\n",
        "  return img"
      ],
      "metadata": {
        "id": "ZRp0wC7z9b-z"
      },
      "execution_count": 15,
      "outputs": []
    },
    {
      "cell_type": "code",
      "source": [
        "#data_set = data_set.as_numpy_iterator()\n",
        "\n",
        "data_set= data_set.map(scale_images)\n",
        "data_set = data_set.cache()\n",
        "data_set = data_set.shuffle(60000)\n",
        "data_set = data_set.batch(128)\n",
        "data_set = data_set.prefetch(64)"
      ],
      "metadata": {
        "id": "-zp0RZZD9zWU"
      },
      "execution_count": 16,
      "outputs": []
    },
    {
      "cell_type": "code",
      "source": [
        "data_set.as_numpy_iterator().next().shape"
      ],
      "metadata": {
        "colab": {
          "base_uri": "https://localhost:8080/"
        },
        "id": "ch07kCVu-d9g",
        "outputId": "a2ec42c5-7a22-49e4-ee3b-ae25d29a13ab"
      },
      "execution_count": 18,
      "outputs": [
        {
          "output_type": "execute_result",
          "data": {
            "text/plain": [
              "(128, 28, 28, 1)"
            ]
          },
          "metadata": {},
          "execution_count": 18
        }
      ]
    },
    {
      "cell_type": "markdown",
      "source": [
        "now lets create our generator and the discriminator models"
      ],
      "metadata": {
        "id": "xKa4kKiP_G5w"
      }
    },
    {
      "cell_type": "code",
      "source": [
        "from tensorflow.keras import Sequential,Model"
      ],
      "metadata": {
        "id": "mTSaICy7-_cv"
      },
      "execution_count": 22,
      "outputs": []
    },
    {
      "cell_type": "code",
      "source": [
        "def create_generator():\n",
        "  model = Sequential()\n",
        "\n",
        "  model.add(tf.keras.layers.Dense(7*7*128,input_dim = 128))\n",
        "  model.add(tf.keras.layers.LeakyReLU(0.2))\n",
        "  model.add(tf.keras.layers.Reshape((7,7,128)))\n",
        "\n",
        "  model.add(tf.keras.layers.UpSampling2D())\n",
        "  model.add(tf.keras.layers.Conv2D(128,5,padding=\"same\"))\n",
        "  model.add(tf.keras.layers.LeakyReLU(0.2))\n",
        "\n",
        "  model.add(tf.keras.layers.UpSampling2D())\n",
        "  model.add(tf.keras.layers.Conv2D(128,5,padding=\"same\"))\n",
        "  model.add(tf.keras.layers.LeakyReLU(0.2))\n",
        "\n",
        "  model.add(tf.keras.layers.Conv2D(128,4,padding=\"same\"))\n",
        "  model.add(tf.keras.layers.LeakyReLU(0.2))\n",
        "\n",
        "  model.add(tf.keras.layers.Conv2D(128,4,padding=\"same\"))\n",
        "  model.add(tf.keras.layers.LeakyReLU(0.2))\n",
        "\n",
        "  model.add(tf.keras.layers.Conv2D(1,4,padding=\"same\",activation=\"sigmoid\"))\n",
        "\n",
        "  return model\n",
        "\n"
      ],
      "metadata": {
        "id": "EIVjatKp_X3_"
      },
      "execution_count": 23,
      "outputs": []
    },
    {
      "cell_type": "markdown",
      "source": [
        "bellow is a function for creating discriminator"
      ],
      "metadata": {
        "id": "pUBaaoubCq02"
      }
    },
    {
      "cell_type": "code",
      "source": [
        "def create_discriminator():\n",
        "\n",
        "  model = Sequential()\n",
        "\n",
        "  model.add(tf.keras.layers.Conv2D())"
      ],
      "metadata": {
        "id": "uAuxLtowCnpM"
      },
      "execution_count": null,
      "outputs": []
    }
  ]
}